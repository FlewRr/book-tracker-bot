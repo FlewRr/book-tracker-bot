{
 "cells": [
  {
   "cell_type": "code",
   "execution_count": 1,
   "metadata": {},
   "outputs": [],
   "source": [
    "from copy import deepcopy\n",
    "from itertools import combinations\n",
    "import pickle\n",
    "import typing as tp\n",
    "from zipfile import ZipFile\n",
    "\n",
    "from lightfm import LightFM\n",
    "from lightfm.data import Dataset as LFMDataset\n",
    "import numpy as np\n",
    "import pandas as pd\n",
    "from scipy.sparse import coo_matrix\n",
    "from sklearn.preprocessing import normalize\n",
    "from transliterate import translit"
   ]
  },
  {
   "cell_type": "code",
   "execution_count": 4,
   "metadata": {},
   "outputs": [
    {
     "name": "stderr",
     "output_type": "stream",
     "text": [
      "/tmp/ipykernel_14823/3605326734.py:1: DtypeWarning: Columns (3) have mixed types. Specify dtype option on import or set low_memory=False.\n",
      "  books = pd.read_csv('csv/Books.csv')\n"
     ]
    }
   ],
   "source": [
    "books = pd.read_csv('csv/Books.csv')\n",
    "ratings = pd.read_csv('csv/Ratings.csv')\n",
    "users = pd.read_csv('csv/Users.csv')"
   ]
  },
  {
   "cell_type": "code",
   "execution_count": 5,
   "metadata": {},
   "outputs": [],
   "source": [
    "df = pd.merge(ratings, books[['ISBN', 'Book-Title', 'Book-Author']], on=['ISBN'])\n",
    "df = pd.merge(df, users['User-ID'], on=['User-ID'])"
   ]
  },
  {
   "cell_type": "code",
   "execution_count": 6,
   "metadata": {},
   "outputs": [],
   "source": [
    "map = {'User-ID' : 'id', 'ISBN' : 'book_id', 'Book-Rating' : 'rating', 'Book-Title' : 'title', 'Book-Author' : 'author', 'Year-Of-Publication' : 'year', 'Location' : 'location', 'Age' : 'age'}\n",
    "df = df.rename(columns=map)"
   ]
  },
  {
   "cell_type": "code",
   "execution_count": null,
   "metadata": {},
   "outputs": [],
   "source": []
  },
  {
   "cell_type": "code",
   "execution_count": null,
   "metadata": {},
   "outputs": [],
   "source": [
    "titles = [\n",
    "    \"Crime and Punishment\",\n",
    "    \"Brothers Karamazov\",\n",
    "    \"Idiot\"\n",
    "]\n",
    "author = [\n",
    "    'Fyodor M. Dostoevsky' for j in range(3)\n",
    "]\n",
    "\n",
    "ratings = [5, 5, 5]\n",
    "avatar_interactions_dostoevsky = pd.DataFrame({\"user_id\": \"avatar_dostoevsky\", \"Book-Title\": titles, \"Book-Author\" : author, \"rating\": ratings})\n",
    "avatar_interactions_dostoevsky = avatar_interactions_dostoevsky.merge(books[['ISBN', 'Book-Title', 'Book-Author']], on=['Book-Title', 'Book-Author'])\n"
   ]
  },
  {
   "cell_type": "code",
   "execution_count": 9,
   "metadata": {},
   "outputs": [],
   "source": [
    "df.to_csv(\"data.csv\")"
   ]
  },
  {
   "cell_type": "code",
   "execution_count": null,
   "metadata": {},
   "outputs": [],
   "source": [
    "x = list(np.unique(df.id.values))\n",
    "train_ids = list(np.random.choice(x, size=92106-18421, replace=False))\n",
    "test_ids = list(set(x) - set(train_ids))"
   ]
  },
  {
   "cell_type": "code",
   "execution_count": null,
   "metadata": {},
   "outputs": [],
   "source": [
    "train = df[df.id.isin(train_ids)]\n",
    "test = df[df.id.isin(test_ids)]"
   ]
  },
  {
   "cell_type": "code",
   "execution_count": 282,
   "metadata": {},
   "outputs": [],
   "source": [
    "lfm_dataset = LFMDataset()\n",
    "lfm_dataset.fit(\n",
    "    users=train[\"id\"].values,\n",
    "    items=train[\"book_id\"].values,\n",
    ")\n",
    "\n",
    "train_matrix, _ = lfm_dataset.build_interactions(zip(*train[[\"id\", \"book_id\", \"rating\"]].values.T))"
   ]
  },
  {
   "cell_type": "code",
   "execution_count": 284,
   "metadata": {},
   "outputs": [
    {
     "data": {
      "text/plain": [
       "<lightfm.lightfm.LightFM at 0x7f8c9efad300>"
      ]
     },
     "execution_count": 284,
     "metadata": {},
     "output_type": "execute_result"
    }
   ],
   "source": [
    "lfm_model = LightFM(\n",
    "    learning_rate=0.01, \n",
    "    loss='warp', \n",
    "    no_components=32,\n",
    "    random_state=42\n",
    ")\n",
    "lfm_model.fit(\n",
    "    interactions=train_matrix, \n",
    "    epochs=15,\n",
    "    num_threads=20\n",
    ")"
   ]
  },
  {
   "cell_type": "code",
   "execution_count": 286,
   "metadata": {},
   "outputs": [],
   "source": []
  },
  {
   "cell_type": "code",
   "execution_count": 287,
   "metadata": {},
   "outputs": [],
   "source": [
    "user_vectors = lfm_model.user_embeddings\n",
    "item_vectors = lfm_model.item_embeddings\n",
    "id_item_mapping = {k: v for k, v in lfm_dataset._item_id_mapping.items()}"
   ]
  },
  {
   "cell_type": "code",
   "execution_count": null,
   "metadata": {},
   "outputs": [],
   "source": [
    "from annoy import AnnoyIndex\n",
    "from scipy.spatial.distance import cdist"
   ]
  },
  {
   "cell_type": "code",
   "execution_count": null,
   "metadata": {},
   "outputs": [
    {
     "data": {
      "text/plain": [
       "True"
      ]
     },
     "execution_count": 59,
     "metadata": {},
     "output_type": "execute_result"
    }
   ],
   "source": [
    "f = 32\n",
    "t = AnnoyIndex(f, 'angular')\n",
    "\n",
    "for idx, item in enumerate(item_vectors):\n",
    "    t.add_item(idx, item)\n",
    "\n",
    "t.build(10)"
   ]
  },
  {
   "cell_type": "code",
   "execution_count": null,
   "metadata": {},
   "outputs": [
    {
     "data": {
      "text/plain": [
       "'034545104X'"
      ]
     },
     "execution_count": 62,
     "metadata": {},
     "output_type": "execute_result"
    }
   ],
   "source": [
    "id_item_mapping[0]"
   ]
  },
  {
   "cell_type": "code",
   "execution_count": null,
   "metadata": {},
   "outputs": [],
   "source": [
    "book_mapping = {k : v for k, v in zip(train.book_id, train.title)}"
   ]
  },
  {
   "cell_type": "code",
   "execution_count": null,
   "metadata": {},
   "outputs": [
    {
     "data": {
      "text/plain": [
       "['Midnight in the Garden of Good and Evil',\n",
       " 'The Sparrow',\n",
       " 'While I Was Gone',\n",
       " 'Under the Banner of Heaven : A Story of Violent Faith',\n",
       " 'Sushi for Beginners : A Novel (Keyes, Marian)',\n",
       " 'Griffin &amp; Sabine: An Extraordinary Correspondence',\n",
       " \"A Patchwork Planet (Ballantine Reader's Circle)\",\n",
       " 'The Flanders Panel',\n",
       " 'All the Pretty Horses (The Border Trilogy, Vol 1)',\n",
       " \"The Color of Water: A Black Man's Tribute to His White Mother\"]"
      ]
     },
     "execution_count": 85,
     "metadata": {},
     "output_type": "execute_result"
    }
   ],
   "source": [
    "[book_mapping[y] for y in [id_item_mapping[x] for x in t.get_nns_by_vector(user_vectors[1], 10)]]"
   ]
  },
  {
   "cell_type": "code",
   "execution_count": null,
   "metadata": {},
   "outputs": [
    {
     "data": {
      "text/plain": [
       "[17956,\n",
       " 8,\n",
       " 1413,\n",
       " 18262,\n",
       " 35098,\n",
       " 1361,\n",
       " 10194,\n",
       " 19148,\n",
       " 2762,\n",
       " 67132,\n",
       " 12911,\n",
       " 17076,\n",
       " 19298,\n",
       " 543,\n",
       " 765,\n",
       " 2806,\n",
       " 19183,\n",
       " 68206,\n",
       " 115,\n",
       " 1015,\n",
       " 19305,\n",
       " 16809,\n",
       " 4,\n",
       " 18213,\n",
       " 1019,\n",
       " 2760,\n",
       " 31230,\n",
       " 16712,\n",
       " 2648,\n",
       " 1164,\n",
       " 836,\n",
       " 2850,\n",
       " 5,\n",
       " 10215,\n",
       " 17667,\n",
       " 149,\n",
       " 1104,\n",
       " 565,\n",
       " 1012,\n",
       " 547,\n",
       " 782,\n",
       " 1027,\n",
       " 9025,\n",
       " 724,\n",
       " 16977,\n",
       " 19186,\n",
       " 690,\n",
       " 645,\n",
       " 11299,\n",
       " 694,\n",
       " 21792,\n",
       " 804,\n",
       " 8928,\n",
       " 30322,\n",
       " 2759,\n",
       " 1903,\n",
       " 763,\n",
       " 10240,\n",
       " 2772,\n",
       " 18239,\n",
       " 18009,\n",
       " 12896,\n",
       " 37176,\n",
       " 1071,\n",
       " 10200,\n",
       " 27226,\n",
       " 130,\n",
       " 11978,\n",
       " 693,\n",
       " 38218,\n",
       " 845,\n",
       " 1031,\n",
       " 1026,\n",
       " 861,\n",
       " 12637,\n",
       " 702,\n",
       " 18364,\n",
       " 2268,\n",
       " 544,\n",
       " 18498,\n",
       " 42315,\n",
       " 12653,\n",
       " 564,\n",
       " 1206,\n",
       " 17462,\n",
       " 30306,\n",
       " 490,\n",
       " 537,\n",
       " 18086,\n",
       " 18398,\n",
       " 716,\n",
       " 33310,\n",
       " 2766,\n",
       " 2812,\n",
       " 61,\n",
       " 18815,\n",
       " 31245,\n",
       " 728,\n",
       " 39335,\n",
       " 16923]"
      ]
     },
     "execution_count": 106,
     "metadata": {},
     "output_type": "execute_result"
    }
   ],
   "source": [
    "user_vector = user_vectors[1]\n",
    "closest = t.get_nns_by_vector(\n",
    "    user_vector,\n",
    "    100,\n",
    "    -1,\n",
    "    include_distances=False\n",
    ")\n",
    "closest"
   ]
  },
  {
   "cell_type": "code",
   "execution_count": 228,
   "metadata": {},
   "outputs": [],
   "source": [
    "from __future__ import annotations\n",
    "\n",
    "from itertools import islice\n",
    "from typing import Callable, Dict, Hashable, Literal, Sequence, Tuple\n",
    "\n",
    "import numpy as np\n",
    "from annoy import AnnoyIndex\n",
    "from numpy.typing import NDArray\n",
    "\n",
    "\n",
    "\n",
    "class AnnoyRecommender:\n",
    "    def __init__(\n",
    "            self,\n",
    "            item_vectors: NDArray[np.float32],\n",
    "            user_vectors: NDArray[np.float32],\n",
    "            user_id_user_index_id_mapping: Dict[Hashable, int],\n",
    "            item_id_item_index_id_mapping: Dict[Hashable, int],\n",
    "            top_k: int,\n",
    "            dim: int,\n",
    "            metric: Literal['angular', 'euclidian', 'manhattan', 'hamming', 'dot'] = 'dot',\n",
    "            n_trees: int = 10,\n",
    "            n_jobs: int = -1,\n",
    "            search_k: int = -1,\n",
    "            n_neighbors: int = 500\n",
    "    ):\n",
    "        self.item_vectors = item_vectors\n",
    "        self.user_vectors = user_vectors\n",
    "        self.user_to_num = user_id_user_index_id_mapping\n",
    "        self.item_to_num = item_id_item_index_id_mapping\n",
    "        self.num_to_user = {v: k for k, v in user_id_user_index_id_mapping.items()}\n",
    "        self.num_to_item = {v: k for k, v in item_id_item_index_id_mapping.items()}\n",
    "        self.top_k = top_k\n",
    "        self.dim = dim\n",
    "        self.metric = metric\n",
    "        self.n_trees = n_trees\n",
    "        self.n_jobs = n_jobs\n",
    "        self.search_k = search_k\n",
    "        self.n_neighbors = n_neighbors\n",
    "\n",
    "\n",
    "    def fit(self) -> AnnoyRecommender:\n",
    "        self._build()\n",
    "        return self\n",
    "\n",
    "    def _build(self) -> None:\n",
    "        index = AnnoyIndex(f=self.dim, metric=self.metric)\n",
    "        for idx, vector in enumerate(self.item_vectors):\n",
    "            index.add_item(idx, vector)\n",
    "        index.build(n_trees=self.n_trees, n_jobs=self.n_jobs)\n",
    "        self.index = index\n",
    "\n",
    "    def recommend_single_user(\n",
    "            self, user_id : Hashable, item_whitelist: Sequence[Hashable]\n",
    "    ) -> Sequence[Hashable]:\n",
    "        id, item_ids = self.user_to_num[user_id], [\n",
    "            self.item_to_num[item] for item in item_whitelist\n",
    "        ]\n",
    "\n",
    "        user_vector = self.user_vectors[id]\n",
    "\n",
    "        if len(item_whitelist) == 0:\n",
    "            item_ids = list(self.item_to_num.values())\n",
    "\n",
    "        closest = self._get_similar(user_vector=user_vector)\n",
    "        closest = self._get_filtered_top(\n",
    "            candidates=closest, allowed_items=item_ids\n",
    "        )\n",
    "\n",
    "        recs = [self.num_to_item[item] for item in closest]\n",
    "        \n",
    "        return recs\n",
    "    \n",
    "    def _get_similar(\n",
    "            self, user_vector: NDArray[np.float32]\n",
    "        ) -> Sequence[int]:\n",
    "        nearest_neighbours = self.index.get_nns_by_vector(\n",
    "            user_vector, \n",
    "            self.n_neighbors,\n",
    "            self.search_k,\n",
    "            include_distances=False,\n",
    "        )\n",
    "\n",
    "        return nearest_neighbours\n",
    "\n",
    "    def _get_filtered_top(\n",
    "            self, candidates: Sequence[int], allowed_items: Sequence[int]\n",
    "    ) -> Sequence[int]:\n",
    "        allowed_items_set = set(allowed_items)\n",
    "        return list(\n",
    "            islice(\n",
    "                (cand for cand in candidates if cand in allowed_items_set), self.top_k\n",
    "            )\n",
    "        )"
   ]
  },
  {
   "cell_type": "code",
   "execution_count": 288,
   "metadata": {},
   "outputs": [],
   "source": [
    "ann = AnnoyRecommender(\n",
    "    item_vectors=item_vectors,\n",
    "    user_vectors=user_vectors,\n",
    "    user_id_user_index_id_mapping=lfm_dataset._user_id_mapping,\n",
    "    item_id_item_index_id_mapping=id_item_mapping,\n",
    "    top_k=25,\n",
    "    dim=32,\n",
    "    metric='angular',\n",
    "    n_trees=50,\n",
    "    n_neighbors=20\n",
    ")"
   ]
  },
  {
   "cell_type": "code",
   "execution_count": 289,
   "metadata": {},
   "outputs": [
    {
     "data": {
      "text/plain": [
       "<__main__.AnnoyRecommender at 0x7f8c9efacfd0>"
      ]
     },
     "execution_count": 289,
     "metadata": {},
     "output_type": "execute_result"
    }
   ],
   "source": [
    "ann.fit()"
   ]
  },
  {
   "cell_type": "code",
   "execution_count": 231,
   "metadata": {},
   "outputs": [],
   "source": [
    "item_id_mapping = {k : v for v, k in id_item_mapping.items()}"
   ]
  },
  {
   "cell_type": "code",
   "execution_count": null,
   "metadata": {},
   "outputs": [
    {
     "data": {
      "text/html": [
       "<div>\n",
       "<style scoped>\n",
       "    .dataframe tbody tr th:only-of-type {\n",
       "        vertical-align: middle;\n",
       "    }\n",
       "\n",
       "    .dataframe tbody tr th {\n",
       "        vertical-align: top;\n",
       "    }\n",
       "\n",
       "    .dataframe thead th {\n",
       "        text-align: right;\n",
       "    }\n",
       "</style>\n",
       "<table border=\"1\" class=\"dataframe\">\n",
       "  <thead>\n",
       "    <tr style=\"text-align: right;\">\n",
       "      <th></th>\n",
       "      <th>id</th>\n",
       "      <th>book_id</th>\n",
       "      <th>rating</th>\n",
       "      <th>title</th>\n",
       "      <th>author</th>\n",
       "    </tr>\n",
       "  </thead>\n",
       "  <tbody>\n",
       "    <tr>\n",
       "      <th>0</th>\n",
       "      <td>276725</td>\n",
       "      <td>034545104X</td>\n",
       "      <td>0</td>\n",
       "      <td>Flesh Tones: A Novel</td>\n",
       "      <td>M. J. Rose</td>\n",
       "    </tr>\n",
       "    <tr>\n",
       "      <th>1</th>\n",
       "      <td>2313</td>\n",
       "      <td>034545104X</td>\n",
       "      <td>5</td>\n",
       "      <td>Flesh Tones: A Novel</td>\n",
       "      <td>M. J. Rose</td>\n",
       "    </tr>\n",
       "    <tr>\n",
       "      <th>2</th>\n",
       "      <td>2313</td>\n",
       "      <td>0812533550</td>\n",
       "      <td>9</td>\n",
       "      <td>Ender's Game (Ender Wiggins Saga (Paperback))</td>\n",
       "      <td>Orson Scott Card</td>\n",
       "    </tr>\n",
       "    <tr>\n",
       "      <th>3</th>\n",
       "      <td>2313</td>\n",
       "      <td>0679745580</td>\n",
       "      <td>8</td>\n",
       "      <td>In Cold Blood (Vintage International)</td>\n",
       "      <td>TRUMAN CAPOTE</td>\n",
       "    </tr>\n",
       "    <tr>\n",
       "      <th>4</th>\n",
       "      <td>2313</td>\n",
       "      <td>0060173289</td>\n",
       "      <td>9</td>\n",
       "      <td>Divine Secrets of the Ya-Ya Sisterhood : A Novel</td>\n",
       "      <td>Rebecca Wells</td>\n",
       "    </tr>\n",
       "    <tr>\n",
       "      <th>...</th>\n",
       "      <td>...</td>\n",
       "      <td>...</td>\n",
       "      <td>...</td>\n",
       "      <td>...</td>\n",
       "      <td>...</td>\n",
       "    </tr>\n",
       "    <tr>\n",
       "      <th>1031131</th>\n",
       "      <td>276442</td>\n",
       "      <td>2862749796</td>\n",
       "      <td>7</td>\n",
       "      <td>Le Huit</td>\n",
       "      <td>Katherine Neville</td>\n",
       "    </tr>\n",
       "    <tr>\n",
       "      <th>1031132</th>\n",
       "      <td>276618</td>\n",
       "      <td>3788097000</td>\n",
       "      <td>5</td>\n",
       "      <td>Ludwig Marum: Briefe aus dem Konzentrationslag...</td>\n",
       "      <td>Ludwig Marum</td>\n",
       "    </tr>\n",
       "    <tr>\n",
       "      <th>1031133</th>\n",
       "      <td>276647</td>\n",
       "      <td>0553571001</td>\n",
       "      <td>0</td>\n",
       "      <td>Christmas With Anne and Other Holiday Stories:...</td>\n",
       "      <td>L. M. Montgomery</td>\n",
       "    </tr>\n",
       "    <tr>\n",
       "      <th>1031134</th>\n",
       "      <td>276647</td>\n",
       "      <td>0689822294</td>\n",
       "      <td>10</td>\n",
       "      <td>Heaven (Coretta Scott King Author Award Winner)</td>\n",
       "      <td>Angela Johnson</td>\n",
       "    </tr>\n",
       "    <tr>\n",
       "      <th>1031135</th>\n",
       "      <td>276660</td>\n",
       "      <td>0583307841</td>\n",
       "      <td>8</td>\n",
       "      <td>ROBOT RACE (MICRO ADV 6)</td>\n",
       "      <td>David Antony Kroft</td>\n",
       "    </tr>\n",
       "  </tbody>\n",
       "</table>\n",
       "<p>816134 rows × 5 columns</p>\n",
       "</div>"
      ],
      "text/plain": [
       "             id     book_id  rating  \\\n",
       "0        276725  034545104X       0   \n",
       "1          2313  034545104X       5   \n",
       "2          2313  0812533550       9   \n",
       "3          2313  0679745580       8   \n",
       "4          2313  0060173289       9   \n",
       "...         ...         ...     ...   \n",
       "1031131  276442  2862749796       7   \n",
       "1031132  276618  3788097000       5   \n",
       "1031133  276647  0553571001       0   \n",
       "1031134  276647  0689822294      10   \n",
       "1031135  276660  0583307841       8   \n",
       "\n",
       "                                                     title              author  \n",
       "0                                     Flesh Tones: A Novel          M. J. Rose  \n",
       "1                                     Flesh Tones: A Novel          M. J. Rose  \n",
       "2            Ender's Game (Ender Wiggins Saga (Paperback))    Orson Scott Card  \n",
       "3                    In Cold Blood (Vintage International)       TRUMAN CAPOTE  \n",
       "4         Divine Secrets of the Ya-Ya Sisterhood : A Novel       Rebecca Wells  \n",
       "...                                                    ...                 ...  \n",
       "1031131                                            Le Huit   Katherine Neville  \n",
       "1031132  Ludwig Marum: Briefe aus dem Konzentrationslag...        Ludwig Marum  \n",
       "1031133  Christmas With Anne and Other Holiday Stories:...    L. M. Montgomery  \n",
       "1031134    Heaven (Coretta Scott King Author Award Winner)      Angela Johnson  \n",
       "1031135                           ROBOT RACE (MICRO ADV 6)  David Antony Kroft  \n",
       "\n",
       "[816134 rows x 5 columns]"
      ]
     },
     "execution_count": 220,
     "metadata": {},
     "output_type": "execute_result"
    }
   ],
   "source": [
    "train"
   ]
  },
  {
   "cell_type": "code",
   "execution_count": 278,
   "metadata": {},
   "outputs": [],
   "source": [
    "nice_train = train[train.rating > 5]"
   ]
  },
  {
   "cell_type": "code",
   "execution_count": 279,
   "metadata": {},
   "outputs": [
    {
     "data": {
      "text/html": [
       "<div>\n",
       "<style scoped>\n",
       "    .dataframe tbody tr th:only-of-type {\n",
       "        vertical-align: middle;\n",
       "    }\n",
       "\n",
       "    .dataframe tbody tr th {\n",
       "        vertical-align: top;\n",
       "    }\n",
       "\n",
       "    .dataframe thead th {\n",
       "        text-align: right;\n",
       "    }\n",
       "</style>\n",
       "<table border=\"1\" class=\"dataframe\">\n",
       "  <thead>\n",
       "    <tr style=\"text-align: right;\">\n",
       "      <th></th>\n",
       "      <th>id</th>\n",
       "      <th>book_id</th>\n",
       "      <th>rating</th>\n",
       "      <th>title</th>\n",
       "      <th>author</th>\n",
       "    </tr>\n",
       "  </thead>\n",
       "  <tbody>\n",
       "    <tr>\n",
       "      <th>2</th>\n",
       "      <td>2313</td>\n",
       "      <td>0812533550</td>\n",
       "      <td>9</td>\n",
       "      <td>Ender's Game (Ender Wiggins Saga (Paperback))</td>\n",
       "      <td>Orson Scott Card</td>\n",
       "    </tr>\n",
       "    <tr>\n",
       "      <th>3</th>\n",
       "      <td>2313</td>\n",
       "      <td>0679745580</td>\n",
       "      <td>8</td>\n",
       "      <td>In Cold Blood (Vintage International)</td>\n",
       "      <td>TRUMAN CAPOTE</td>\n",
       "    </tr>\n",
       "    <tr>\n",
       "      <th>4</th>\n",
       "      <td>2313</td>\n",
       "      <td>0060173289</td>\n",
       "      <td>9</td>\n",
       "      <td>Divine Secrets of the Ya-Ya Sisterhood : A Novel</td>\n",
       "      <td>Rebecca Wells</td>\n",
       "    </tr>\n",
       "    <tr>\n",
       "      <th>7</th>\n",
       "      <td>2313</td>\n",
       "      <td>0345348036</td>\n",
       "      <td>9</td>\n",
       "      <td>The Princess Bride: S Morgenstern's Classic Ta...</td>\n",
       "      <td>WILLIAM GOLDMAN</td>\n",
       "    </tr>\n",
       "    <tr>\n",
       "      <th>8</th>\n",
       "      <td>2313</td>\n",
       "      <td>0553278223</td>\n",
       "      <td>7</td>\n",
       "      <td>The Martian Chronicles</td>\n",
       "      <td>RAY BRADBURY</td>\n",
       "    </tr>\n",
       "    <tr>\n",
       "      <th>...</th>\n",
       "      <td>...</td>\n",
       "      <td>...</td>\n",
       "      <td>...</td>\n",
       "      <td>...</td>\n",
       "      <td>...</td>\n",
       "    </tr>\n",
       "    <tr>\n",
       "      <th>1031129</th>\n",
       "      <td>276442</td>\n",
       "      <td>2070498492</td>\n",
       "      <td>6</td>\n",
       "      <td>Le NÃ?Â?ud Gordien</td>\n",
       "      <td>Bernard Schlink</td>\n",
       "    </tr>\n",
       "    <tr>\n",
       "      <th>1031130</th>\n",
       "      <td>276442</td>\n",
       "      <td>2264032960</td>\n",
       "      <td>6</td>\n",
       "      <td>L'Apprenti du diable</td>\n",
       "      <td>Ellis Peters</td>\n",
       "    </tr>\n",
       "    <tr>\n",
       "      <th>1031131</th>\n",
       "      <td>276442</td>\n",
       "      <td>2862749796</td>\n",
       "      <td>7</td>\n",
       "      <td>Le Huit</td>\n",
       "      <td>Katherine Neville</td>\n",
       "    </tr>\n",
       "    <tr>\n",
       "      <th>1031134</th>\n",
       "      <td>276647</td>\n",
       "      <td>0689822294</td>\n",
       "      <td>10</td>\n",
       "      <td>Heaven (Coretta Scott King Author Award Winner)</td>\n",
       "      <td>Angela Johnson</td>\n",
       "    </tr>\n",
       "    <tr>\n",
       "      <th>1031135</th>\n",
       "      <td>276660</td>\n",
       "      <td>0583307841</td>\n",
       "      <td>8</td>\n",
       "      <td>ROBOT RACE (MICRO ADV 6)</td>\n",
       "      <td>David Antony Kroft</td>\n",
       "    </tr>\n",
       "  </tbody>\n",
       "</table>\n",
       "<p>257746 rows × 5 columns</p>\n",
       "</div>"
      ],
      "text/plain": [
       "             id     book_id  rating  \\\n",
       "2          2313  0812533550       9   \n",
       "3          2313  0679745580       8   \n",
       "4          2313  0060173289       9   \n",
       "7          2313  0345348036       9   \n",
       "8          2313  0553278223       7   \n",
       "...         ...         ...     ...   \n",
       "1031129  276442  2070498492       6   \n",
       "1031130  276442  2264032960       6   \n",
       "1031131  276442  2862749796       7   \n",
       "1031134  276647  0689822294      10   \n",
       "1031135  276660  0583307841       8   \n",
       "\n",
       "                                                     title              author  \n",
       "2            Ender's Game (Ender Wiggins Saga (Paperback))    Orson Scott Card  \n",
       "3                    In Cold Blood (Vintage International)       TRUMAN CAPOTE  \n",
       "4         Divine Secrets of the Ya-Ya Sisterhood : A Novel       Rebecca Wells  \n",
       "7        The Princess Bride: S Morgenstern's Classic Ta...     WILLIAM GOLDMAN  \n",
       "8                                   The Martian Chronicles        RAY BRADBURY  \n",
       "...                                                    ...                 ...  \n",
       "1031129                                 Le NÃ?Â?ud Gordien     Bernard Schlink  \n",
       "1031130                               L'Apprenti du diable        Ellis Peters  \n",
       "1031131                                            Le Huit   Katherine Neville  \n",
       "1031134    Heaven (Coretta Scott King Author Award Winner)      Angela Johnson  \n",
       "1031135                           ROBOT RACE (MICRO ADV 6)  David Antony Kroft  \n",
       "\n",
       "[257746 rows x 5 columns]"
      ]
     },
     "execution_count": 279,
     "metadata": {},
     "output_type": "execute_result"
    }
   ],
   "source": [
    "nice_train"
   ]
  },
  {
   "cell_type": "code",
   "execution_count": 255,
   "metadata": {},
   "outputs": [
    {
     "name": "stderr",
     "output_type": "stream",
     "text": [
      "/tmp/ipykernel_8133/3239325841.py:1: UserWarning: Boolean Series key will be reindexed to match DataFrame index.\n",
      "  train[train[train.id==6543].rating.apply(lambda x: 1 if x > 5 else 0) == 1]\n"
     ]
    },
    {
     "ename": "IndexingError",
     "evalue": "Unalignable boolean Series provided as indexer (index of the boolean Series and of the indexed object do not match).",
     "output_type": "error",
     "traceback": [
      "\u001b[0;31m---------------------------------------------------------------------------\u001b[0m",
      "\u001b[0;31mIndexingError\u001b[0m                             Traceback (most recent call last)",
      "\u001b[1;32m/home/sfleur/Downloads/annoy/recommender.ipynb Cell 29\u001b[0m line \u001b[0;36m1\n\u001b[0;32m----> <a href='vscode-notebook-cell:/home/sfleur/Downloads/annoy/recommender.ipynb#Y115sZmlsZQ%3D%3D?line=0'>1</a>\u001b[0m train[train[train\u001b[39m.\u001b[39;49mid\u001b[39m==\u001b[39;49m\u001b[39m6543\u001b[39;49m]\u001b[39m.\u001b[39;49mrating\u001b[39m.\u001b[39;49mapply(\u001b[39mlambda\u001b[39;49;00m x: \u001b[39m1\u001b[39;49m \u001b[39mif\u001b[39;49;00m x \u001b[39m>\u001b[39;49m \u001b[39m5\u001b[39;49m \u001b[39melse\u001b[39;49;00m \u001b[39m0\u001b[39;49m) \u001b[39m==\u001b[39;49m \u001b[39m1\u001b[39;49m]\n",
      "File \u001b[0;32m~/.local/lib/python3.10/site-packages/pandas/core/frame.py:3795\u001b[0m, in \u001b[0;36mDataFrame.__getitem__\u001b[0;34m(self, key)\u001b[0m\n\u001b[1;32m   3793\u001b[0m \u001b[39m# Do we have a (boolean) 1d indexer?\u001b[39;00m\n\u001b[1;32m   3794\u001b[0m \u001b[39mif\u001b[39;00m com\u001b[39m.\u001b[39mis_bool_indexer(key):\n\u001b[0;32m-> 3795\u001b[0m     \u001b[39mreturn\u001b[39;00m \u001b[39mself\u001b[39;49m\u001b[39m.\u001b[39;49m_getitem_bool_array(key)\n\u001b[1;32m   3797\u001b[0m \u001b[39m# We are left with two options: a single key, and a collection of keys,\u001b[39;00m\n\u001b[1;32m   3798\u001b[0m \u001b[39m# We interpret tuples as collections only for non-MultiIndex\u001b[39;00m\n\u001b[1;32m   3799\u001b[0m is_single_key \u001b[39m=\u001b[39m \u001b[39misinstance\u001b[39m(key, \u001b[39mtuple\u001b[39m) \u001b[39mor\u001b[39;00m \u001b[39mnot\u001b[39;00m is_list_like(key)\n",
      "File \u001b[0;32m~/.local/lib/python3.10/site-packages/pandas/core/frame.py:3848\u001b[0m, in \u001b[0;36mDataFrame._getitem_bool_array\u001b[0;34m(self, key)\u001b[0m\n\u001b[1;32m   3842\u001b[0m     \u001b[39mraise\u001b[39;00m \u001b[39mValueError\u001b[39;00m(\n\u001b[1;32m   3843\u001b[0m         \u001b[39mf\u001b[39m\u001b[39m\"\u001b[39m\u001b[39mItem wrong length \u001b[39m\u001b[39m{\u001b[39;00m\u001b[39mlen\u001b[39m(key)\u001b[39m}\u001b[39;00m\u001b[39m instead of \u001b[39m\u001b[39m{\u001b[39;00m\u001b[39mlen\u001b[39m(\u001b[39mself\u001b[39m\u001b[39m.\u001b[39mindex)\u001b[39m}\u001b[39;00m\u001b[39m.\u001b[39m\u001b[39m\"\u001b[39m\n\u001b[1;32m   3844\u001b[0m     )\n\u001b[1;32m   3846\u001b[0m \u001b[39m# check_bool_indexer will throw exception if Series key cannot\u001b[39;00m\n\u001b[1;32m   3847\u001b[0m \u001b[39m# be reindexed to match DataFrame rows\u001b[39;00m\n\u001b[0;32m-> 3848\u001b[0m key \u001b[39m=\u001b[39m check_bool_indexer(\u001b[39mself\u001b[39;49m\u001b[39m.\u001b[39;49mindex, key)\n\u001b[1;32m   3849\u001b[0m indexer \u001b[39m=\u001b[39m key\u001b[39m.\u001b[39mnonzero()[\u001b[39m0\u001b[39m]\n\u001b[1;32m   3850\u001b[0m \u001b[39mreturn\u001b[39;00m \u001b[39mself\u001b[39m\u001b[39m.\u001b[39m_take_with_is_copy(indexer, axis\u001b[39m=\u001b[39m\u001b[39m0\u001b[39m)\n",
      "File \u001b[0;32m~/.local/lib/python3.10/site-packages/pandas/core/indexing.py:2552\u001b[0m, in \u001b[0;36mcheck_bool_indexer\u001b[0;34m(index, key)\u001b[0m\n\u001b[1;32m   2550\u001b[0m indexer \u001b[39m=\u001b[39m result\u001b[39m.\u001b[39mindex\u001b[39m.\u001b[39mget_indexer_for(index)\n\u001b[1;32m   2551\u001b[0m \u001b[39mif\u001b[39;00m \u001b[39m-\u001b[39m\u001b[39m1\u001b[39m \u001b[39min\u001b[39;00m indexer:\n\u001b[0;32m-> 2552\u001b[0m     \u001b[39mraise\u001b[39;00m IndexingError(\n\u001b[1;32m   2553\u001b[0m         \u001b[39m\"\u001b[39m\u001b[39mUnalignable boolean Series provided as \u001b[39m\u001b[39m\"\u001b[39m\n\u001b[1;32m   2554\u001b[0m         \u001b[39m\"\u001b[39m\u001b[39mindexer (index of the boolean Series and of \u001b[39m\u001b[39m\"\u001b[39m\n\u001b[1;32m   2555\u001b[0m         \u001b[39m\"\u001b[39m\u001b[39mthe indexed object do not match).\u001b[39m\u001b[39m\"\u001b[39m\n\u001b[1;32m   2556\u001b[0m     )\n\u001b[1;32m   2558\u001b[0m result \u001b[39m=\u001b[39m result\u001b[39m.\u001b[39mtake(indexer)\n\u001b[1;32m   2560\u001b[0m \u001b[39m# fall through for boolean\u001b[39;00m\n",
      "\u001b[0;31mIndexingError\u001b[0m: Unalignable boolean Series provided as indexer (index of the boolean Series and of the indexed object do not match)."
     ]
    }
   ],
   "source": [
    "train[.apply(lambda x: 1 if x > 5 else 0) == 1]"
   ]
  },
  {
   "cell_type": "code",
   "execution_count": 291,
   "metadata": {},
   "outputs": [],
   "source": [
    "id = 276647\n",
    "books = []"
   ]
  },
  {
   "cell_type": "code",
   "execution_count": 241,
   "metadata": {},
   "outputs": [],
   "source": [
    "recommendations = {}\n",
    "\n",
    "users = list(np.unique(test.id))"
   ]
  },
  {
   "cell_type": "code",
   "execution_count": 290,
   "metadata": {},
   "outputs": [
    {
     "data": {
      "text/html": [
       "<div>\n",
       "<style scoped>\n",
       "    .dataframe tbody tr th:only-of-type {\n",
       "        vertical-align: middle;\n",
       "    }\n",
       "\n",
       "    .dataframe tbody tr th {\n",
       "        vertical-align: top;\n",
       "    }\n",
       "\n",
       "    .dataframe thead th {\n",
       "        text-align: right;\n",
       "    }\n",
       "</style>\n",
       "<table border=\"1\" class=\"dataframe\">\n",
       "  <thead>\n",
       "    <tr style=\"text-align: right;\">\n",
       "      <th></th>\n",
       "      <th>id</th>\n",
       "      <th>book_id</th>\n",
       "      <th>rating</th>\n",
       "      <th>title</th>\n",
       "      <th>author</th>\n",
       "    </tr>\n",
       "  </thead>\n",
       "  <tbody>\n",
       "    <tr>\n",
       "      <th>0</th>\n",
       "      <td>276725</td>\n",
       "      <td>034545104X</td>\n",
       "      <td>0</td>\n",
       "      <td>Flesh Tones: A Novel</td>\n",
       "      <td>M. J. Rose</td>\n",
       "    </tr>\n",
       "    <tr>\n",
       "      <th>1</th>\n",
       "      <td>2313</td>\n",
       "      <td>034545104X</td>\n",
       "      <td>5</td>\n",
       "      <td>Flesh Tones: A Novel</td>\n",
       "      <td>M. J. Rose</td>\n",
       "    </tr>\n",
       "    <tr>\n",
       "      <th>2</th>\n",
       "      <td>2313</td>\n",
       "      <td>0812533550</td>\n",
       "      <td>9</td>\n",
       "      <td>Ender's Game (Ender Wiggins Saga (Paperback))</td>\n",
       "      <td>Orson Scott Card</td>\n",
       "    </tr>\n",
       "    <tr>\n",
       "      <th>3</th>\n",
       "      <td>2313</td>\n",
       "      <td>0679745580</td>\n",
       "      <td>8</td>\n",
       "      <td>In Cold Blood (Vintage International)</td>\n",
       "      <td>TRUMAN CAPOTE</td>\n",
       "    </tr>\n",
       "    <tr>\n",
       "      <th>4</th>\n",
       "      <td>2313</td>\n",
       "      <td>0060173289</td>\n",
       "      <td>9</td>\n",
       "      <td>Divine Secrets of the Ya-Ya Sisterhood : A Novel</td>\n",
       "      <td>Rebecca Wells</td>\n",
       "    </tr>\n",
       "    <tr>\n",
       "      <th>...</th>\n",
       "      <td>...</td>\n",
       "      <td>...</td>\n",
       "      <td>...</td>\n",
       "      <td>...</td>\n",
       "      <td>...</td>\n",
       "    </tr>\n",
       "    <tr>\n",
       "      <th>1031131</th>\n",
       "      <td>276442</td>\n",
       "      <td>2862749796</td>\n",
       "      <td>7</td>\n",
       "      <td>Le Huit</td>\n",
       "      <td>Katherine Neville</td>\n",
       "    </tr>\n",
       "    <tr>\n",
       "      <th>1031132</th>\n",
       "      <td>276618</td>\n",
       "      <td>3788097000</td>\n",
       "      <td>5</td>\n",
       "      <td>Ludwig Marum: Briefe aus dem Konzentrationslag...</td>\n",
       "      <td>Ludwig Marum</td>\n",
       "    </tr>\n",
       "    <tr>\n",
       "      <th>1031133</th>\n",
       "      <td>276647</td>\n",
       "      <td>0553571001</td>\n",
       "      <td>0</td>\n",
       "      <td>Christmas With Anne and Other Holiday Stories:...</td>\n",
       "      <td>L. M. Montgomery</td>\n",
       "    </tr>\n",
       "    <tr>\n",
       "      <th>1031134</th>\n",
       "      <td>276647</td>\n",
       "      <td>0689822294</td>\n",
       "      <td>10</td>\n",
       "      <td>Heaven (Coretta Scott King Author Award Winner)</td>\n",
       "      <td>Angela Johnson</td>\n",
       "    </tr>\n",
       "    <tr>\n",
       "      <th>1031135</th>\n",
       "      <td>276660</td>\n",
       "      <td>0583307841</td>\n",
       "      <td>8</td>\n",
       "      <td>ROBOT RACE (MICRO ADV 6)</td>\n",
       "      <td>David Antony Kroft</td>\n",
       "    </tr>\n",
       "  </tbody>\n",
       "</table>\n",
       "<p>816134 rows × 5 columns</p>\n",
       "</div>"
      ],
      "text/plain": [
       "             id     book_id  rating  \\\n",
       "0        276725  034545104X       0   \n",
       "1          2313  034545104X       5   \n",
       "2          2313  0812533550       9   \n",
       "3          2313  0679745580       8   \n",
       "4          2313  0060173289       9   \n",
       "...         ...         ...     ...   \n",
       "1031131  276442  2862749796       7   \n",
       "1031132  276618  3788097000       5   \n",
       "1031133  276647  0553571001       0   \n",
       "1031134  276647  0689822294      10   \n",
       "1031135  276660  0583307841       8   \n",
       "\n",
       "                                                     title              author  \n",
       "0                                     Flesh Tones: A Novel          M. J. Rose  \n",
       "1                                     Flesh Tones: A Novel          M. J. Rose  \n",
       "2            Ender's Game (Ender Wiggins Saga (Paperback))    Orson Scott Card  \n",
       "3                    In Cold Blood (Vintage International)       TRUMAN CAPOTE  \n",
       "4         Divine Secrets of the Ya-Ya Sisterhood : A Novel       Rebecca Wells  \n",
       "...                                                    ...                 ...  \n",
       "1031131                                            Le Huit   Katherine Neville  \n",
       "1031132  Ludwig Marum: Briefe aus dem Konzentrationslag...        Ludwig Marum  \n",
       "1031133  Christmas With Anne and Other Holiday Stories:...    L. M. Montgomery  \n",
       "1031134    Heaven (Coretta Scott King Author Award Winner)      Angela Johnson  \n",
       "1031135                           ROBOT RACE (MICRO ADV 6)  David Antony Kroft  \n",
       "\n",
       "[816134 rows x 5 columns]"
      ]
     },
     "execution_count": 290,
     "metadata": {},
     "output_type": "execute_result"
    }
   ],
   "source": [
    "train"
   ]
  },
  {
   "cell_type": "code",
   "execution_count": 297,
   "metadata": {},
   "outputs": [
    {
     "data": {
      "text/plain": [
       "['The Princess Diaries',\n",
       " 'Eva Moves the Furniture: A Novel',\n",
       " 'Cane River',\n",
       " 'When the Wind Blows',\n",
       " 'Little Altars Everywhere',\n",
       " 'A Heartbreaking Work Of Staggering Genius : A Memoir Based on a True Story',\n",
       " 'The River King',\n",
       " 'The Straw Men',\n",
       " 'Falling Angels',\n",
       " 'Le Mariage',\n",
       " 'Grand Avenue',\n",
       " 'Princess in the Spotlight (The Princess Diaries, Vol. 2)',\n",
       " 'Still Waters',\n",
       " \"Postcards From Life's Little Instruction Book\",\n",
       " 'Big Stone Gap',\n",
       " \"Don't Cry Now\",\n",
       " \"It's My F---ing Birthday : A Novel\",\n",
       " 'The Crimson Petal and the White',\n",
       " 'The Switch',\n",
       " 'The Most Wanted']"
      ]
     },
     "execution_count": 297,
     "metadata": {},
     "output_type": "execute_result"
    }
   ],
   "source": [
    "recs = ann.recommend_single_user(\n",
    "    2313, books\n",
    ")\n",
    "\n",
    "[book_mapping[x] for x in recs]"
   ]
  },
  {
   "cell_type": "code",
   "execution_count": 298,
   "metadata": {},
   "outputs": [],
   "source": [
    "lfm_dataset = LFMDataset()\n",
    "lfm_dataset.fit(\n",
    "    users=test[\"id\"].values,\n",
    "    items=test[\"book_id\"].values,\n",
    ")\n",
    "\n",
    "train_matrix, _ = lfm_dataset.build_interactions(zip(*test[[\"id\", \"book_id\", \"rating\"]].values.T))"
   ]
  },
  {
   "cell_type": "code",
   "execution_count": 299,
   "metadata": {},
   "outputs": [
    {
     "data": {
      "text/plain": [
       "<lightfm.lightfm.LightFM at 0x7f8c9efad000>"
      ]
     },
     "execution_count": 299,
     "metadata": {},
     "output_type": "execute_result"
    }
   ],
   "source": [
    "lfm_model = LightFM(\n",
    "    learning_rate=0.01, \n",
    "    loss='warp', \n",
    "    no_components=32,\n",
    "    random_state=42\n",
    ")\n",
    "lfm_model.fit(\n",
    "    interactions=train_matrix, \n",
    "    epochs=15,\n",
    "    num_threads=20\n",
    ")"
   ]
  },
  {
   "cell_type": "code",
   "execution_count": 300,
   "metadata": {},
   "outputs": [],
   "source": [
    "user_vectors = lfm_model.user_embeddings\n",
    "item_vectors = lfm_model.item_embeddings\n",
    "id_item_mapping = {k: v for k, v in lfm_dataset._item_id_mapping.items()}"
   ]
  },
  {
   "cell_type": "code",
   "execution_count": 304,
   "metadata": {},
   "outputs": [
    {
     "data": {
      "text/plain": [
       "18421"
      ]
     },
     "execution_count": 304,
     "metadata": {},
     "output_type": "execute_result"
    }
   ],
   "source": [
    "users = list(np.unique(test.id))\n",
    "len(users)"
   ]
  },
  {
   "cell_type": "code",
   "execution_count": 305,
   "metadata": {},
   "outputs": [
    {
     "data": {
      "text/html": [
       "<div>\n",
       "<style scoped>\n",
       "    .dataframe tbody tr th:only-of-type {\n",
       "        vertical-align: middle;\n",
       "    }\n",
       "\n",
       "    .dataframe tbody tr th {\n",
       "        vertical-align: top;\n",
       "    }\n",
       "\n",
       "    .dataframe thead th {\n",
       "        text-align: right;\n",
       "    }\n",
       "</style>\n",
       "<table border=\"1\" class=\"dataframe\">\n",
       "  <thead>\n",
       "    <tr style=\"text-align: right;\">\n",
       "      <th></th>\n",
       "      <th>id</th>\n",
       "      <th>title</th>\n",
       "    </tr>\n",
       "  </thead>\n",
       "  <tbody>\n",
       "  </tbody>\n",
       "</table>\n",
       "</div>"
      ],
      "text/plain": [
       "Empty DataFrame\n",
       "Columns: [id, title]\n",
       "Index: []"
      ]
     },
     "execution_count": 305,
     "metadata": {},
     "output_type": "execute_result"
    }
   ],
   "source": [
    "ans = pd.DataFrame(columns=['id', 'title'])\n",
    "ans"
   ]
  },
  {
   "cell_type": "code",
   "execution_count": null,
   "metadata": {},
   "outputs": [],
   "source": []
  }
 ],
 "metadata": {
  "kernelspec": {
   "display_name": "Python 3",
   "language": "python",
   "name": "python3"
  },
  "language_info": {
   "codemirror_mode": {
    "name": "ipython",
    "version": 3
   },
   "file_extension": ".py",
   "mimetype": "text/x-python",
   "name": "python",
   "nbconvert_exporter": "python",
   "pygments_lexer": "ipython3",
   "version": "3.10.12"
  }
 },
 "nbformat": 4,
 "nbformat_minor": 2
}
